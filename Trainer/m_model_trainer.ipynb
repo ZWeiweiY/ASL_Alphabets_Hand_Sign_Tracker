{
  "cells": [
    {
      "cell_type": "markdown",
      "metadata": {},
      "source": [
        "# Setup Requirements"
      ]
    },
    {
      "cell_type": "markdown",
      "metadata": {},
      "source": [
        "## Import Libraries"
      ]
    },
    {
      "cell_type": "code",
      "execution_count": 1,
      "metadata": {
        "id": "igMyGnjE9hEp"
      },
      "outputs": [
        {
          "name": "stdout",
          "output_type": "stream",
          "text": [
            "WARNING:tensorflow:From c:\\Users\\zhiweiy\\AppData\\Local\\Programs\\Python\\Python311\\Lib\\site-packages\\keras\\src\\losses.py:2976: The name tf.losses.sparse_softmax_cross_entropy is deprecated. Please use tf.compat.v1.losses.sparse_softmax_cross_entropy instead.\n",
            "\n"
          ]
        }
      ],
      "source": [
        "import csv\n",
        "import numpy as np\n",
        "import tensorflow as tf\n",
        "from sklearn.model_selection import train_test_split\n",
        "\n",
        "RANDOM_SEED = 42"
      ]
    },
    {
      "cell_type": "markdown",
      "metadata": {
        "id": "t2HDvhIu9hEr"
      },
      "source": [
        "## Specify Paths"
      ]
    },
    {
      "cell_type": "code",
      "execution_count": 2,
      "metadata": {
        "id": "9NvZP2Zn9hEy"
      },
      "outputs": [],
      "source": [
        "m_dataset_path = 'data/m_data.csv'\n",
        "m_model_save_path = 'model/m_model.keras'\n",
        "m_tflite_save_path = 'model/m_model.tflite'"
      ]
    },
    {
      "cell_type": "markdown",
      "metadata": {
        "id": "s5oMH7x19hEz"
      },
      "source": [
        "## Setup Attributes"
      ]
    },
    {
      "cell_type": "code",
      "execution_count": 3,
      "metadata": {
        "id": "du4kodXL9hEz"
      },
      "outputs": [],
      "source": [
        "# Data Attributes\n",
        "M_NUM_CLASSES = 3\n",
        "M_SEQ = 21\n",
        "REFERENCE_LANDMARKS_NUM = 21\n",
        "DIMENSION = 2\n",
        "\n",
        "# Model Attributes\n",
        "RANDOM_SEED = 42\n",
        "TRAIN_SIZE = 0.8\n",
        "TRAIN_SPLIT_SIZE = 0.75\n",
        "EPOCHS = 150\n",
        "BATCH_SIZE = 8\n",
        "EARLY_STOPPING_PATIENCE = 8"
      ]
    },
    {
      "cell_type": "markdown",
      "metadata": {
        "id": "XjnL0uso9hEz"
      },
      "source": [
        "# Preprocess Data"
      ]
    },
    {
      "cell_type": "markdown",
      "metadata": {},
      "source": [
        "## Load Data"
      ]
    },
    {
      "cell_type": "code",
      "execution_count": 4,
      "metadata": {
        "id": "QT5ZqtEz9hE0"
      },
      "outputs": [],
      "source": [
        "X_m_dataset = np.loadtxt(m_dataset_path, delimiter=',', dtype='float32', usecols=list(range(1, (M_SEQ * (REFERENCE_LANDMARKS_NUM * DIMENSION)) + 1)))"
      ]
    },
    {
      "cell_type": "code",
      "execution_count": 5,
      "metadata": {
        "id": "QmoKFsp49hE0"
      },
      "outputs": [],
      "source": [
        "y_m_dataset = np.loadtxt(m_dataset_path, delimiter=',', dtype='int32', usecols=(0))"
      ]
    },
    {
      "cell_type": "markdown",
      "metadata": {},
      "source": [
        "## Split Train/Test"
      ]
    },
    {
      "cell_type": "code",
      "execution_count": 6,
      "metadata": {
        "id": "xQU7JTZ_9hE0"
      },
      "outputs": [],
      "source": [
        "X_m_train, X_m_test, y_m_train, y_m_test = train_test_split(X_m_dataset, y_m_dataset, train_size=TRAIN_SIZE, random_state=RANDOM_SEED)\n",
        "X_m_train, X_m_val, y_m_train, y_m_val = train_test_split(X_m_train, y_m_train, train_size=TRAIN_SPLIT_SIZE, random_state=RANDOM_SEED)"
      ]
    },
    {
      "cell_type": "markdown",
      "metadata": {
        "id": "mxK_lETT9hE0"
      },
      "source": [
        "# Build Model"
      ]
    },
    {
      "cell_type": "markdown",
      "metadata": {},
      "source": [
        "## Construct Model"
      ]
    },
    {
      "cell_type": "code",
      "execution_count": 7,
      "metadata": {
        "id": "vHBmUf1t9hE1"
      },
      "outputs": [
        {
          "name": "stdout",
          "output_type": "stream",
          "text": [
            "WARNING:tensorflow:From c:\\Users\\zhiweiy\\AppData\\Local\\Programs\\Python\\Python311\\Lib\\site-packages\\keras\\src\\backend.py:1398: The name tf.executing_eagerly_outside_functions is deprecated. Please use tf.compat.v1.executing_eagerly_outside_functions instead.\n",
            "\n"
          ]
        }
      ],
      "source": [
        "m_model = tf.keras.models.Sequential([\n",
        "    tf.keras.layers.Input((M_SEQ * (REFERENCE_LANDMARKS_NUM * DIMENSION),)),\n",
        "    tf.keras.layers.Reshape((M_SEQ, (REFERENCE_LANDMARKS_NUM * DIMENSION)), input_shape=(M_SEQ * (REFERENCE_LANDMARKS_NUM * DIMENSION), )),\n",
        "    tf.keras.layers.Bidirectional(tf.keras.layers.LSTM(64, dropout=0.2, input_shape=[(M_SEQ, (REFERENCE_LANDMARKS_NUM * DIMENSION))], activation='tanh')),\n",
        "    #tf.keras.layers.LSTM(64, return_sequences=False, activation='relu'),\n",
        "    # tf.keras.layers.Dropout(0.2),\n",
        "    tf.keras.layers.Dense(128, activation='relu'),\n",
        "    tf.keras.layers.Dropout(0.2),\n",
        "    tf.keras.layers.Dense(64, activation='relu'),\n",
        "    tf.keras.layers.Dropout(0.4),\n",
        "    tf.keras.layers.Dense(32, activation='relu'),\n",
        "    tf.keras.layers.Dense(M_NUM_CLASSES, activation='softmax')\n",
        "])"
      ]
    },
    {
      "cell_type": "markdown",
      "metadata": {},
      "source": [
        "## Compile Model"
      ]
    },
    {
      "cell_type": "code",
      "execution_count": 8,
      "metadata": {
        "id": "c3Dac0M_9hE2"
      },
      "outputs": [
        {
          "name": "stdout",
          "output_type": "stream",
          "text": [
            "WARNING:tensorflow:From c:\\Users\\zhiweiy\\AppData\\Local\\Programs\\Python\\Python311\\Lib\\site-packages\\keras\\src\\optimizers\\__init__.py:309: The name tf.train.Optimizer is deprecated. Please use tf.compat.v1.train.Optimizer instead.\n",
            "\n"
          ]
        }
      ],
      "source": [
        "# Model compilation\n",
        "m_model.compile(\n",
        "    optimizer='adam',\n",
        "    loss='sparse_categorical_crossentropy',\n",
        "    metrics=['accuracy']\n",
        ")"
      ]
    },
    {
      "cell_type": "markdown",
      "metadata": {},
      "source": [
        "## Setup Callbacks"
      ]
    },
    {
      "cell_type": "code",
      "execution_count": 9,
      "metadata": {
        "id": "MbMjOflQ9hE1"
      },
      "outputs": [],
      "source": [
        "# Model checkpoint callback\n",
        "m_cp_callback = tf.keras.callbacks.ModelCheckpoint(\n",
        "    m_model_save_path, verbose=1, save_weights_only=False)\n",
        "# Callback for early stopping\n",
        "es_callback = tf.keras.callbacks.EarlyStopping(monitor='val_loss', patience=EARLY_STOPPING_PATIENCE, verbose=1)"
      ]
    },
    {
      "cell_type": "markdown",
      "metadata": {},
      "source": [
        "## Summary"
      ]
    },
    {
      "cell_type": "code",
      "execution_count": 10,
      "metadata": {
        "colab": {
          "base_uri": "https://localhost:8080/"
        },
        "id": "ypqky9tc9hE1",
        "outputId": "5db082bb-30e3-4110-bf63-a1ee777ecd46"
      },
      "outputs": [
        {
          "name": "stdout",
          "output_type": "stream",
          "text": [
            "Model: \"sequential\"\n",
            "_________________________________________________________________\n",
            " Layer (type)                Output Shape              Param #   \n",
            "=================================================================\n",
            " reshape (Reshape)           (None, 21, 42)            0         \n",
            "                                                                 \n",
            " bidirectional (Bidirection  (None, 128)               54784     \n",
            " al)                                                             \n",
            "                                                                 \n",
            " dense (Dense)               (None, 128)               16512     \n",
            "                                                                 \n",
            " dropout (Dropout)           (None, 128)               0         \n",
            "                                                                 \n",
            " dense_1 (Dense)             (None, 64)                8256      \n",
            "                                                                 \n",
            " dropout_1 (Dropout)         (None, 64)                0         \n",
            "                                                                 \n",
            " dense_2 (Dense)             (None, 32)                2080      \n",
            "                                                                 \n",
            " dense_3 (Dense)             (None, 3)                 99        \n",
            "                                                                 \n",
            "=================================================================\n",
            "Total params: 81731 (319.26 KB)\n",
            "Trainable params: 81731 (319.26 KB)\n",
            "Non-trainable params: 0 (0.00 Byte)\n",
            "_________________________________________________________________\n"
          ]
        }
      ],
      "source": [
        "m_model.summary()  # tf.keras.utils.plot_model(model, show_shapes=True)"
      ]
    },
    {
      "cell_type": "markdown",
      "metadata": {
        "id": "7XI0j1Iu9hE2"
      },
      "source": [
        "# Train Model"
      ]
    },
    {
      "cell_type": "code",
      "execution_count": 11,
      "metadata": {
        "colab": {
          "base_uri": "https://localhost:8080/"
        },
        "id": "WirBl-JE9hE3",
        "outputId": "71b30ca2-8294-4d9d-8aa2-800d90d399de",
        "scrolled": true
      },
      "outputs": [
        {
          "name": "stdout",
          "output_type": "stream",
          "text": [
            "Epoch 1/150\n",
            "WARNING:tensorflow:From c:\\Users\\zhiweiy\\AppData\\Local\\Programs\\Python\\Python311\\Lib\\site-packages\\keras\\src\\utils\\tf_utils.py:492: The name tf.ragged.RaggedTensorValue is deprecated. Please use tf.compat.v1.ragged.RaggedTensorValue instead.\n",
            "\n",
            "WARNING:tensorflow:From c:\\Users\\zhiweiy\\AppData\\Local\\Programs\\Python\\Python311\\Lib\\site-packages\\keras\\src\\engine\\base_layer_utils.py:384: The name tf.executing_eagerly_outside_functions is deprecated. Please use tf.compat.v1.executing_eagerly_outside_functions instead.\n",
            "\n",
            "743/750 [============================>.] - ETA: 0s - loss: 0.2922 - accuracy: 0.8928\n",
            "Epoch 1: saving model to model\\m_model.keras\n",
            "750/750 [==============================] - 7s 5ms/step - loss: 0.2905 - accuracy: 0.8935 - val_loss: 0.0655 - val_accuracy: 0.9720\n",
            "Epoch 2/150\n",
            "742/750 [============================>.] - ETA: 0s - loss: 0.0886 - accuracy: 0.9678\n",
            "Epoch 2: saving model to model\\m_model.keras\n",
            "750/750 [==============================] - 3s 4ms/step - loss: 0.0881 - accuracy: 0.9678 - val_loss: 0.0288 - val_accuracy: 0.9900\n",
            "Epoch 3/150\n",
            "749/750 [============================>.] - ETA: 0s - loss: 0.0590 - accuracy: 0.9785\n",
            "Epoch 3: saving model to model\\m_model.keras\n",
            "750/750 [==============================] - 3s 4ms/step - loss: 0.0591 - accuracy: 0.9783 - val_loss: 0.0462 - val_accuracy: 0.9820\n",
            "Epoch 4/150\n",
            "745/750 [============================>.] - ETA: 0s - loss: 0.0484 - accuracy: 0.9841\n",
            "Epoch 4: saving model to model\\m_model.keras\n",
            "750/750 [==============================] - 3s 4ms/step - loss: 0.0482 - accuracy: 0.9842 - val_loss: 0.0112 - val_accuracy: 0.9960\n",
            "Epoch 5/150\n",
            "739/750 [============================>.] - ETA: 0s - loss: 0.0376 - accuracy: 0.9880\n",
            "Epoch 5: saving model to model\\m_model.keras\n",
            "750/750 [==============================] - 3s 4ms/step - loss: 0.0374 - accuracy: 0.9880 - val_loss: 0.0232 - val_accuracy: 0.9915\n",
            "Epoch 6/150\n",
            "741/750 [============================>.] - ETA: 0s - loss: 0.0330 - accuracy: 0.9877\n",
            "Epoch 6: saving model to model\\m_model.keras\n",
            "750/750 [==============================] - 3s 4ms/step - loss: 0.0331 - accuracy: 0.9877 - val_loss: 0.0097 - val_accuracy: 0.9965\n",
            "Epoch 7/150\n",
            "749/750 [============================>.] - ETA: 0s - loss: 0.0302 - accuracy: 0.9915\n",
            "Epoch 7: saving model to model\\m_model.keras\n",
            "750/750 [==============================] - 3s 4ms/step - loss: 0.0301 - accuracy: 0.9915 - val_loss: 0.0110 - val_accuracy: 0.9965\n",
            "Epoch 8/150\n",
            "747/750 [============================>.] - ETA: 0s - loss: 0.0214 - accuracy: 0.9941\n",
            "Epoch 8: saving model to model\\m_model.keras\n",
            "750/750 [==============================] - 3s 4ms/step - loss: 0.0213 - accuracy: 0.9942 - val_loss: 0.0065 - val_accuracy: 0.9980\n",
            "Epoch 9/150\n",
            "739/750 [============================>.] - ETA: 0s - loss: 0.0227 - accuracy: 0.9917\n",
            "Epoch 9: saving model to model\\m_model.keras\n",
            "750/750 [==============================] - 3s 4ms/step - loss: 0.0224 - accuracy: 0.9918 - val_loss: 0.0094 - val_accuracy: 0.9965\n",
            "Epoch 10/150\n",
            "739/750 [============================>.] - ETA: 0s - loss: 0.0240 - accuracy: 0.9929\n",
            "Epoch 10: saving model to model\\m_model.keras\n",
            "750/750 [==============================] - 3s 4ms/step - loss: 0.0236 - accuracy: 0.9930 - val_loss: 0.0101 - val_accuracy: 0.9970\n",
            "Epoch 11/150\n",
            "742/750 [============================>.] - ETA: 0s - loss: 0.0217 - accuracy: 0.9926\n",
            "Epoch 11: saving model to model\\m_model.keras\n",
            "750/750 [==============================] - 3s 4ms/step - loss: 0.0217 - accuracy: 0.9925 - val_loss: 0.0063 - val_accuracy: 0.9980\n",
            "Epoch 12/150\n",
            "749/750 [============================>.] - ETA: 0s - loss: 0.0128 - accuracy: 0.9962\n",
            "Epoch 12: saving model to model\\m_model.keras\n",
            "750/750 [==============================] - 3s 4ms/step - loss: 0.0128 - accuracy: 0.9962 - val_loss: 0.0082 - val_accuracy: 0.9975\n",
            "Epoch 13/150\n",
            "741/750 [============================>.] - ETA: 0s - loss: 0.0242 - accuracy: 0.9921\n",
            "Epoch 13: saving model to model\\m_model.keras\n",
            "750/750 [==============================] - 3s 4ms/step - loss: 0.0251 - accuracy: 0.9915 - val_loss: 0.0031 - val_accuracy: 0.9990\n",
            "Epoch 14/150\n",
            "750/750 [==============================] - ETA: 0s - loss: 0.0089 - accuracy: 0.9972\n",
            "Epoch 14: saving model to model\\m_model.keras\n",
            "750/750 [==============================] - 3s 4ms/step - loss: 0.0089 - accuracy: 0.9972 - val_loss: 0.0026 - val_accuracy: 0.9990\n",
            "Epoch 15/150\n",
            "743/750 [============================>.] - ETA: 0s - loss: 0.0174 - accuracy: 0.9950\n",
            "Epoch 15: saving model to model\\m_model.keras\n",
            "750/750 [==============================] - 3s 4ms/step - loss: 0.0172 - accuracy: 0.9950 - val_loss: 0.0067 - val_accuracy: 0.9965\n",
            "Epoch 16/150\n",
            "746/750 [============================>.] - ETA: 0s - loss: 0.0189 - accuracy: 0.9951\n",
            "Epoch 16: saving model to model\\m_model.keras\n",
            "750/750 [==============================] - 3s 4ms/step - loss: 0.0188 - accuracy: 0.9952 - val_loss: 0.0042 - val_accuracy: 0.9980\n",
            "Epoch 17/150\n",
            "742/750 [============================>.] - ETA: 0s - loss: 0.0078 - accuracy: 0.9966\n",
            "Epoch 17: saving model to model\\m_model.keras\n",
            "750/750 [==============================] - 3s 4ms/step - loss: 0.0081 - accuracy: 0.9965 - val_loss: 7.7193e-04 - val_accuracy: 0.9995\n",
            "Epoch 18/150\n",
            "746/750 [============================>.] - ETA: 0s - loss: 0.0097 - accuracy: 0.9968\n",
            "Epoch 18: saving model to model\\m_model.keras\n",
            "750/750 [==============================] - 3s 4ms/step - loss: 0.0096 - accuracy: 0.9968 - val_loss: 0.0024 - val_accuracy: 0.9995\n",
            "Epoch 19/150\n",
            "743/750 [============================>.] - ETA: 0s - loss: 0.0130 - accuracy: 0.9963\n",
            "Epoch 19: saving model to model\\m_model.keras\n",
            "750/750 [==============================] - 3s 4ms/step - loss: 0.0129 - accuracy: 0.9963 - val_loss: 0.0039 - val_accuracy: 0.9985\n",
            "Epoch 20/150\n",
            "747/750 [============================>.] - ETA: 0s - loss: 0.0093 - accuracy: 0.9965\n",
            "Epoch 20: saving model to model\\m_model.keras\n",
            "750/750 [==============================] - 3s 4ms/step - loss: 0.0093 - accuracy: 0.9965 - val_loss: 0.0025 - val_accuracy: 0.9995\n",
            "Epoch 21/150\n",
            "748/750 [============================>.] - ETA: 0s - loss: 0.0177 - accuracy: 0.9952\n",
            "Epoch 21: saving model to model\\m_model.keras\n",
            "750/750 [==============================] - 3s 4ms/step - loss: 0.0176 - accuracy: 0.9952 - val_loss: 0.0023 - val_accuracy: 0.9990\n",
            "Epoch 22/150\n",
            "748/750 [============================>.] - ETA: 0s - loss: 0.0146 - accuracy: 0.9957\n",
            "Epoch 22: saving model to model\\m_model.keras\n",
            "750/750 [==============================] - 3s 4ms/step - loss: 0.0146 - accuracy: 0.9957 - val_loss: 0.0012 - val_accuracy: 0.9995\n",
            "Epoch 23/150\n",
            "742/750 [============================>.] - ETA: 0s - loss: 0.0091 - accuracy: 0.9980\n",
            "Epoch 23: saving model to model\\m_model.keras\n",
            "750/750 [==============================] - 3s 4ms/step - loss: 0.0091 - accuracy: 0.9980 - val_loss: 0.0027 - val_accuracy: 0.9985\n",
            "Epoch 24/150\n",
            "737/750 [============================>.] - ETA: 0s - loss: 0.0108 - accuracy: 0.9968\n",
            "Epoch 24: saving model to model\\m_model.keras\n",
            "750/750 [==============================] - 3s 4ms/step - loss: 0.0116 - accuracy: 0.9965 - val_loss: 0.0027 - val_accuracy: 0.9995\n",
            "Epoch 25/150\n",
            "745/750 [============================>.] - ETA: 0s - loss: 0.0124 - accuracy: 0.9971\n",
            "Epoch 25: saving model to model\\m_model.keras\n",
            "750/750 [==============================] - 3s 4ms/step - loss: 0.0123 - accuracy: 0.9972 - val_loss: 0.0015 - val_accuracy: 0.9995\n",
            "Epoch 25: early stopping\n"
          ]
        },
        {
          "data": {
            "text/plain": [
              "<keras.src.callbacks.History at 0x11b9f7b95d0>"
            ]
          },
          "execution_count": 11,
          "metadata": {},
          "output_type": "execute_result"
        }
      ],
      "source": [
        "m_model.fit(\n",
        "    X_m_train,\n",
        "    y_m_train,\n",
        "    epochs=EPOCHS,\n",
        "    batch_size=BATCH_SIZE,\n",
        "    validation_data=(X_m_val, y_m_val),\n",
        "    callbacks=[m_cp_callback, es_callback]\n",
        ")"
      ]
    },
    {
      "cell_type": "markdown",
      "metadata": {},
      "source": [
        "# Evaluate Model"
      ]
    },
    {
      "cell_type": "markdown",
      "metadata": {},
      "source": [
        "## Plot Confusion Matrix"
      ]
    },
    {
      "cell_type": "code",
      "execution_count": 12,
      "metadata": {
        "colab": {
          "base_uri": "https://localhost:8080/",
          "height": 582
        },
        "id": "AP1V6SCk9hE5",
        "outputId": "08e41a80-7a4a-4619-8125-ecc371368d19"
      },
      "outputs": [
        {
          "name": "stdout",
          "output_type": "stream",
          "text": [
            "63/63 [==============================] - 1s 2ms/step\n"
          ]
        },
        {
          "data": {
            "image/png": "[encoded data removed]",
            "text/plain": [
              "<Figure size 700x600 with 2 Axes>"
            ]
          },
          "metadata": {},
          "output_type": "display_data"
        },
        {
          "name": "stdout",
          "output_type": "stream",
          "text": [
            "Classification Report\n",
            "              precision    recall  f1-score   support\n",
            "\n",
            "           0       1.00      1.00      1.00      1713\n",
            "           1       1.00      1.00      1.00       155\n",
            "           2       0.99      1.00      1.00       132\n",
            "\n",
            "    accuracy                           1.00      2000\n",
            "   macro avg       1.00      1.00      1.00      2000\n",
            "weighted avg       1.00      1.00      1.00      2000\n",
            "\n"
          ]
        }
      ],
      "source": [
        "import pandas as pd\n",
        "import seaborn as sns\n",
        "import matplotlib.pyplot as plt\n",
        "from sklearn.metrics import confusion_matrix, classification_report\n",
        "\n",
        "def print_confusion_matrix(y_true, y_pred, report=True):\n",
        "    labels = sorted(list(set(y_true)))\n",
        "    cmx_data = confusion_matrix(y_true, y_pred, labels=labels)\n",
        "    \n",
        "    df_cmx = pd.DataFrame(cmx_data, index=labels, columns=labels)\n",
        " \n",
        "    fig, ax = plt.subplots(figsize=(7, 6))\n",
        "    sns.heatmap(df_cmx, annot=True, fmt='g' ,square=False)\n",
        "    ax.set_ylim(len(set(y_true)), 0)\n",
        "    plt.show()\n",
        "    \n",
        "    if report:\n",
        "        print('Classification Report')\n",
        "        print(classification_report(y_m_test, y_pred))\n",
        "\n",
        "Y_pred = m_model.predict(X_m_test)\n",
        "y_pred = np.argmax(Y_pred, axis=1)\n",
        "\n",
        "print_confusion_matrix(y_m_test, y_pred)"
      ]
    },
    {
      "cell_type": "markdown",
      "metadata": {},
      "source": [
        "## Accuracy and Loss"
      ]
    },
    {
      "cell_type": "code",
      "execution_count": 13,
      "metadata": {
        "colab": {
          "base_uri": "https://localhost:8080/"
        },
        "id": "pxvb2Y299hE3",
        "outputId": "59eb3185-2e37-4b9e-bc9d-ab1b8ac29b7f"
      },
      "outputs": [
        {
          "name": "stdout",
          "output_type": "stream",
          "text": [
            "250/250 [==============================] - 0s 1ms/step - loss: 0.0013 - accuracy: 0.9995\n"
          ]
        }
      ],
      "source": [
        "val_loss, val_acc = m_model.evaluate(X_m_test, y_m_test, batch_size=BATCH_SIZE)"
      ]
    },
    {
      "cell_type": "markdown",
      "metadata": {},
      "source": [
        "## Predict Unseen Data"
      ]
    },
    {
      "cell_type": "code",
      "execution_count": 14,
      "metadata": {
        "colab": {
          "base_uri": "https://localhost:8080/"
        },
        "id": "tFz9Tb0I9hE4",
        "outputId": "1c3b3528-54ae-4ee2-ab04-77429211cbef"
      },
      "outputs": [
        {
          "name": "stdout",
          "output_type": "stream",
          "text": [
            "1/1 [==============================] - 0s 14ms/step\n",
            "[[1.0000000e+00 2.3511307e-23 1.3699440e-15]]\n",
            "[1.0000000e+00 2.3511307e-23 1.3699440e-15]\n",
            "1.0\n",
            "0\n"
          ]
        }
      ],
      "source": [
        "predict_result = m_model.predict(np.array([X_m_test[0]]))\n",
        "print(predict_result)\n",
        "print(np.squeeze(predict_result))\n",
        "print(np.sum((predict_result)))\n",
        "print(np.argmax(np.squeeze(predict_result)))"
      ]
    },
    {
      "cell_type": "markdown",
      "metadata": {
        "id": "FNP6aqzc9hE5"
      },
      "source": [
        "# Convert TFLite"
      ]
    },
    {
      "cell_type": "markdown",
      "metadata": {},
      "source": [
        "## Save Model"
      ]
    },
    {
      "cell_type": "code",
      "execution_count": 15,
      "metadata": {},
      "outputs": [],
      "source": [
        "m_model.save(m_model_save_path)"
      ]
    },
    {
      "cell_type": "markdown",
      "metadata": {},
      "source": [
        "## Load Model"
      ]
    },
    {
      "cell_type": "code",
      "execution_count": 16,
      "metadata": {
        "id": "ODjnYyld9hE6"
      },
      "outputs": [],
      "source": [
        "m_model = tf.keras.models.load_model(m_model_save_path)"
      ]
    },
    {
      "cell_type": "markdown",
      "metadata": {},
      "source": [
        "## Quantization & Save"
      ]
    },
    {
      "cell_type": "code",
      "execution_count": 17,
      "metadata": {
        "colab": {
          "base_uri": "https://localhost:8080/"
        },
        "id": "zRfuK8Y59hE6",
        "outputId": "a4ca585c-b5d5-4244-8291-8674063209bb"
      },
      "outputs": [
        {
          "name": "stdout",
          "output_type": "stream",
          "text": [
            "INFO:tensorflow:Assets written to: C:\\Users\\zhiweiy\\AppData\\Local\\Temp\\tmpbg6y5odf\\assets\n"
          ]
        },
        {
          "name": "stderr",
          "output_type": "stream",
          "text": [
            "INFO:tensorflow:Assets written to: C:\\Users\\zhiweiy\\AppData\\Local\\Temp\\tmpbg6y5odf\\assets\n"
          ]
        },
        {
          "data": {
            "text/plain": [
              "347296"
            ]
          },
          "execution_count": 17,
          "metadata": {},
          "output_type": "execute_result"
        }
      ],
      "source": [
        "converter = tf.lite.TFLiteConverter.from_keras_model(m_model)\n",
        "# converter.optimizations = [tf.lite.Optimize.DEFAULT]\n",
        "# converter.experimental_new_converter=True\n",
        "converter.target_spec.supported_ops = [tf.lite.OpsSet.TFLITE_BUILTINS,\n",
        "tf.lite.OpsSet.SELECT_TF_OPS]\n",
        "tflite_quantized_model = converter.convert()\n",
        "\n",
        "open(m_tflite_save_path, 'wb').write(tflite_quantized_model)"
      ]
    },
    {
      "cell_type": "markdown",
      "metadata": {
        "id": "CHBPBXdx9hE6"
      },
      "source": [
        "# Inference test"
      ]
    },
    {
      "cell_type": "markdown",
      "metadata": {},
      "source": [
        "## Setup Interpreter Interface"
      ]
    },
    {
      "cell_type": "code",
      "execution_count": 18,
      "metadata": {
        "id": "mGAzLocO9hE7"
      },
      "outputs": [],
      "source": [
        "interpreter = tf.lite.Interpreter(model_path=m_tflite_save_path)\n",
        "interpreter.allocate_tensors()"
      ]
    },
    {
      "cell_type": "markdown",
      "metadata": {},
      "source": [
        "## Get Tensor Details"
      ]
    },
    {
      "cell_type": "code",
      "execution_count": 19,
      "metadata": {
        "id": "oQuDK8YS9hE7"
      },
      "outputs": [],
      "source": [
        "# Get I / O tensor\n",
        "input_details = interpreter.get_input_details()\n",
        "output_details = interpreter.get_output_details()"
      ]
    },
    {
      "cell_type": "markdown",
      "metadata": {},
      "source": [
        "## Implement Inference"
      ]
    },
    {
      "cell_type": "markdown",
      "metadata": {},
      "source": [
        "### Setup Input Tensor"
      ]
    },
    {
      "cell_type": "code",
      "execution_count": 20,
      "metadata": {
        "id": "2_ixAf_l9hE7"
      },
      "outputs": [],
      "source": [
        "interpreter.set_tensor(input_details[0]['index'], np.array([X_m_test[0]]))"
      ]
    },
    {
      "cell_type": "markdown",
      "metadata": {},
      "source": [
        "### Invoke Interpreter"
      ]
    },
    {
      "cell_type": "code",
      "execution_count": 21,
      "metadata": {
        "colab": {
          "base_uri": "https://localhost:8080/"
        },
        "id": "s4FoAnuc9hE7",
        "outputId": "91f18257-8d8b-4ef3-c558-e9b5f94fabbf",
        "scrolled": true
      },
      "outputs": [
        {
          "name": "stdout",
          "output_type": "stream",
          "text": [
            "CPU times: total: 0 ns\n",
            "Wall time: 1.13 ms\n"
          ]
        }
      ],
      "source": [
        "%%time\n",
        "interpreter.invoke()"
      ]
    },
    {
      "cell_type": "markdown",
      "metadata": {},
      "source": [
        "### Get Tensor Output"
      ]
    },
    {
      "cell_type": "code",
      "execution_count": 22,
      "metadata": {},
      "outputs": [
        {
          "name": "stdout",
          "output_type": "stream",
          "text": [
            "[1.0000000e+00 2.3511125e-23 1.3699439e-15]\n",
            "0\n"
          ]
        }
      ],
      "source": [
        "tflite_results = interpreter.get_tensor(output_details[0]['index'])\n",
        "print(np.squeeze(tflite_results))\n",
        "print(np.argmax(np.squeeze(tflite_results)))"
      ]
    }
  ],
  "metadata": {
    "accelerator": "GPU",
    "colab": {
      "collapsed_sections": [],
      "name": "keypoint_classification_EN.ipynb",
      "provenance": [],
      "toc_visible": true
    },
    "kernelspec": {
      "display_name": "Python 3",
      "language": "python",
      "name": "python3"
    },
    "language_info": {
      "codemirror_mode": {
        "name": "ipython",
        "version": 3
      },
      "file_extension": ".py",
      "mimetype": "text/x-python",
      "name": "python",
      "nbconvert_exporter": "python",
      "pygments_lexer": "ipython3",
      "version": "3.11.7"
    }
  },
  "nbformat": 4,
  "nbformat_minor": 0
}
