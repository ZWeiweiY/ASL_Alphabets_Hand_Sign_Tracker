{
  "cells": [
    {
      "cell_type": "markdown",
      "metadata": {},
      "source": [
        "# Setup Requirements"
      ]
    },
    {
      "cell_type": "markdown",
      "metadata": {},
      "source": [
        "## Import Libraries"
      ]
    },
    {
      "cell_type": "code",
      "execution_count": 5,
      "metadata": {
        "id": "igMyGnjE9hEp"
      },
      "outputs": [],
      "source": [
        "import csv\n",
        "import numpy as np\n",
        "import tensorflow as tf\n",
        "from sklearn.model_selection import train_test_split\n",
        "\n",
        "RANDOM_SEED = 42"
      ]
    },
    {
      "cell_type": "markdown",
      "metadata": {
        "id": "t2HDvhIu9hEr"
      },
      "source": [
        "## Specify Paths"
      ]
    },
    {
      "cell_type": "code",
      "execution_count": 6,
      "metadata": {
        "id": "9NvZP2Zn9hEy"
      },
      "outputs": [],
      "source": [
        "dataset_path = 'data/data.csv'\n",
        "model_save_path = 'model/model.keras'\n",
        "tflite_save_path = 'model/model.tflite'\n",
        "label_path = 'data/label.csv'"
      ]
    },
    {
      "cell_type": "markdown",
      "metadata": {
        "id": "s5oMH7x19hEz"
      },
      "source": [
        "## Setup Attributes"
      ]
    },
    {
      "cell_type": "code",
      "execution_count": 7,
      "metadata": {
        "id": "du4kodXL9hEz"
      },
      "outputs": [],
      "source": [
        "DIMENSION = 2\n",
        "\n",
        "NUM_CLASSES = 30"
      ]
    },
    {
      "cell_type": "markdown",
      "metadata": {
        "id": "XjnL0uso9hEz"
      },
      "source": [
        "# Preprocess Data"
      ]
    },
    {
      "cell_type": "markdown",
      "metadata": {},
      "source": [
        "## Load Data"
      ]
    },
    {
      "cell_type": "code",
      "execution_count": 8,
      "metadata": {
        "id": "QT5ZqtEz9hE0"
      },
      "outputs": [],
      "source": [
        "X_dataset = np.loadtxt(dataset_path, delimiter=',', dtype='float32', usecols=list(range(1, (21 * DIMENSION) + 1)))"
      ]
    },
    {
      "cell_type": "code",
      "execution_count": 9,
      "metadata": {
        "id": "QmoKFsp49hE0"
      },
      "outputs": [],
      "source": [
        "y_dataset = np.loadtxt(dataset_path, delimiter=',', dtype='int32', usecols=(0))"
      ]
    },
    {
      "cell_type": "markdown",
      "metadata": {},
      "source": [
        "## Split Train/Test"
      ]
    },
    {
      "cell_type": "code",
      "execution_count": 10,
      "metadata": {
        "id": "xQU7JTZ_9hE0"
      },
      "outputs": [],
      "source": [
        "X_train, X_test, y_train, y_test = train_test_split(X_dataset, y_dataset, train_size=0.8, random_state=RANDOM_SEED)\n",
        "X_train, X_val, y_train, y_val = train_test_split(X_train, y_train, train_size=0.75, random_state=RANDOM_SEED)"
      ]
    },
    {
      "cell_type": "markdown",
      "metadata": {
        "id": "mxK_lETT9hE0"
      },
      "source": [
        "# Build Model"
      ]
    },
    {
      "cell_type": "markdown",
      "metadata": {},
      "source": [
        "## Construct Model"
      ]
    },
    {
      "cell_type": "code",
      "execution_count": 11,
      "metadata": {
        "id": "vHBmUf1t9hE1"
      },
      "outputs": [
        {
          "name": "stdout",
          "output_type": "stream",
          "text": [
            "WARNING:tensorflow:From c:\\Users\\zhiweiy\\AppData\\Local\\Programs\\Python\\Python311\\Lib\\site-packages\\keras\\src\\backend.py:1398: The name tf.executing_eagerly_outside_functions is deprecated. Please use tf.compat.v1.executing_eagerly_outside_functions instead.\n",
            "\n"
          ]
        }
      ],
      "source": [
        "model = tf.keras.models.Sequential([\n",
        "    tf.keras.layers.Input((21 * DIMENSION, )),\n",
        "    tf.keras.layers.Dense(128, activation='leaky_relu'),\n",
        "    tf.keras.layers.Dropout(0.2),\n",
        "    tf.keras.layers.Dense(64, activation='leaky_relu'),\n",
        "    tf.keras.layers.Dropout(0.4),\n",
        "    tf.keras.layers.Dense(32, activation='leaky_relu'),\n",
        "    tf.keras.layers.Dense(NUM_CLASSES, activation='softmax')\n",
        "])"
      ]
    },
    {
      "cell_type": "markdown",
      "metadata": {},
      "source": [
        "## Compile Model"
      ]
    },
    {
      "cell_type": "code",
      "execution_count": 12,
      "metadata": {
        "id": "c3Dac0M_9hE2"
      },
      "outputs": [
        {
          "name": "stdout",
          "output_type": "stream",
          "text": [
            "WARNING:tensorflow:From c:\\Users\\zhiweiy\\AppData\\Local\\Programs\\Python\\Python311\\Lib\\site-packages\\keras\\src\\optimizers\\__init__.py:309: The name tf.train.Optimizer is deprecated. Please use tf.compat.v1.train.Optimizer instead.\n",
            "\n"
          ]
        }
      ],
      "source": [
        "# Model compilation\n",
        "model.compile(\n",
        "    optimizer='adam',\n",
        "    loss='sparse_categorical_crossentropy',\n",
        "    metrics=['accuracy']\n",
        ")\n"
      ]
    },
    {
      "cell_type": "markdown",
      "metadata": {},
      "source": [
        "## Setup Callbacks"
      ]
    },
    {
      "cell_type": "code",
      "execution_count": 13,
      "metadata": {
        "id": "MbMjOflQ9hE1"
      },
      "outputs": [],
      "source": [
        "# Model checkpoint callback\n",
        "cp_callback = tf.keras.callbacks.ModelCheckpoint(\n",
        "    model_save_path, verbose=1, save_weights_only=False)\n",
        "# Callback for early stopping\n",
        "es_callback = tf.keras.callbacks.EarlyStopping(monitor='val_loss', patience=4, verbose=1)"
      ]
    },
    {
      "cell_type": "markdown",
      "metadata": {},
      "source": [
        "## Summary"
      ]
    },
    {
      "cell_type": "code",
      "execution_count": 14,
      "metadata": {
        "colab": {
          "base_uri": "https://localhost:8080/"
        },
        "id": "ypqky9tc9hE1",
        "outputId": "5db082bb-30e3-4110-bf63-a1ee777ecd46"
      },
      "outputs": [
        {
          "name": "stdout",
          "output_type": "stream",
          "text": [
            "Model: \"sequential\"\n",
            "_________________________________________________________________\n",
            " Layer (type)                Output Shape              Param #   \n",
            "=================================================================\n",
            " dense (Dense)               (None, 128)               5504      \n",
            "                                                                 \n",
            " dropout (Dropout)           (None, 128)               0         \n",
            "                                                                 \n",
            " dense_1 (Dense)             (None, 64)                8256      \n",
            "                                                                 \n",
            " dropout_1 (Dropout)         (None, 64)                0         \n",
            "                                                                 \n",
            " dense_2 (Dense)             (None, 32)                2080      \n",
            "                                                                 \n",
            " dense_3 (Dense)             (None, 30)                990       \n",
            "                                                                 \n",
            "=================================================================\n",
            "Total params: 16830 (65.74 KB)\n",
            "Trainable params: 16830 (65.74 KB)\n",
            "Non-trainable params: 0 (0.00 Byte)\n",
            "_________________________________________________________________\n"
          ]
        }
      ],
      "source": [
        "model.summary()  # tf.keras.utils.plot_model(model, show_shapes=True)"
      ]
    },
    {
      "cell_type": "markdown",
      "metadata": {
        "id": "7XI0j1Iu9hE2"
      },
      "source": [
        "# Train Model"
      ]
    },
    {
      "cell_type": "code",
      "execution_count": 15,
      "metadata": {
        "colab": {
          "base_uri": "https://localhost:8080/"
        },
        "id": "WirBl-JE9hE3",
        "outputId": "71b30ca2-8294-4d9d-8aa2-800d90d399de",
        "scrolled": true
      },
      "outputs": [
        {
          "name": "stdout",
          "output_type": "stream",
          "text": [
            "Epoch 1/50\n",
            "WARNING:tensorflow:From c:\\Users\\zhiweiy\\AppData\\Local\\Programs\\Python\\Python311\\Lib\\site-packages\\keras\\src\\utils\\tf_utils.py:492: The name tf.ragged.RaggedTensorValue is deprecated. Please use tf.compat.v1.ragged.RaggedTensorValue instead.\n",
            "\n",
            "WARNING:tensorflow:From c:\\Users\\zhiweiy\\AppData\\Local\\Programs\\Python\\Python311\\Lib\\site-packages\\keras\\src\\engine\\base_layer_utils.py:384: The name tf.executing_eagerly_outside_functions is deprecated. Please use tf.compat.v1.executing_eagerly_outside_functions instead.\n",
            "\n",
            "5016/5069 [============================>.] - ETA: 0s - loss: 0.8990 - accuracy: 0.6985\n",
            "Epoch 1: saving model to model\\model.keras\n",
            "5069/5069 [==============================] - 5s 929us/step - loss: 0.8945 - accuracy: 0.7000 - val_loss: 0.3628 - val_accuracy: 0.8674\n",
            "Epoch 2/50\n",
            "5005/5069 [============================>.] - ETA: 0s - loss: 0.4048 - accuracy: 0.8657\n",
            "Epoch 2: saving model to model\\model.keras\n",
            "5069/5069 [==============================] - 5s 944us/step - loss: 0.4042 - accuracy: 0.8660 - val_loss: 0.2111 - val_accuracy: 0.9169\n",
            "Epoch 3/50\n",
            "5058/5069 [============================>.] - ETA: 0s - loss: 0.3008 - accuracy: 0.9070\n",
            "Epoch 3: saving model to model\\model.keras\n",
            "5069/5069 [==============================] - 5s 926us/step - loss: 0.3012 - accuracy: 0.9069 - val_loss: 0.1654 - val_accuracy: 0.9537\n",
            "Epoch 4/50\n",
            "5057/5069 [============================>.] - ETA: 0s - loss: 0.2477 - accuracy: 0.9244\n",
            "Epoch 4: saving model to model\\model.keras\n",
            "5069/5069 [==============================] - 5s 947us/step - loss: 0.2478 - accuracy: 0.9243 - val_loss: 0.1518 - val_accuracy: 0.9503\n",
            "Epoch 5/50\n",
            "5016/5069 [============================>.] - ETA: 0s - loss: 0.2170 - accuracy: 0.9355\n",
            "Epoch 5: saving model to model\\model.keras\n",
            "5069/5069 [==============================] - 5s 1ms/step - loss: 0.2163 - accuracy: 0.9356 - val_loss: 0.0946 - val_accuracy: 0.9720\n",
            "Epoch 6/50\n",
            "5047/5069 [============================>.] - ETA: 0s - loss: 0.1941 - accuracy: 0.9428\n",
            "Epoch 6: saving model to model\\model.keras\n",
            "5069/5069 [==============================] - 5s 1ms/step - loss: 0.1938 - accuracy: 0.9429 - val_loss: 0.0882 - val_accuracy: 0.9720\n",
            "Epoch 7/50\n",
            "5046/5069 [============================>.] - ETA: 0s - loss: 0.1814 - accuracy: 0.9463\n",
            "Epoch 7: saving model to model\\model.keras\n",
            "5069/5069 [==============================] - 5s 967us/step - loss: 0.1820 - accuracy: 0.9464 - val_loss: 0.0835 - val_accuracy: 0.9740\n",
            "Epoch 8/50\n",
            "5019/5069 [============================>.] - ETA: 0s - loss: 0.1709 - accuracy: 0.9496\n",
            "Epoch 8: saving model to model\\model.keras\n",
            "5069/5069 [==============================] - 5s 1ms/step - loss: 0.1708 - accuracy: 0.9496 - val_loss: 0.0910 - val_accuracy: 0.9693\n",
            "Epoch 9/50\n",
            "5057/5069 [============================>.] - ETA: 0s - loss: 0.1627 - accuracy: 0.9512\n",
            "Epoch 9: saving model to model\\model.keras\n",
            "5069/5069 [==============================] - 5s 990us/step - loss: 0.1627 - accuracy: 0.9512 - val_loss: 0.0824 - val_accuracy: 0.9746\n",
            "Epoch 10/50\n",
            "5028/5069 [============================>.] - ETA: 0s - loss: 0.1572 - accuracy: 0.9540\n",
            "Epoch 10: saving model to model\\model.keras\n",
            "5069/5069 [==============================] - 5s 1ms/step - loss: 0.1570 - accuracy: 0.9540 - val_loss: 0.0741 - val_accuracy: 0.9748\n",
            "Epoch 11/50\n",
            "5063/5069 [============================>.] - ETA: 0s - loss: 0.1546 - accuracy: 0.9544\n",
            "Epoch 11: saving model to model\\model.keras\n",
            "5069/5069 [==============================] - 5s 989us/step - loss: 0.1545 - accuracy: 0.9544 - val_loss: 0.0674 - val_accuracy: 0.9772\n",
            "Epoch 12/50\n",
            "5019/5069 [============================>.] - ETA: 0s - loss: 0.1481 - accuracy: 0.9550\n",
            "Epoch 12: saving model to model\\model.keras\n",
            "5069/5069 [==============================] - 5s 1000us/step - loss: 0.1484 - accuracy: 0.9550 - val_loss: 0.0748 - val_accuracy: 0.9751\n",
            "Epoch 13/50\n",
            "5027/5069 [============================>.] - ETA: 0s - loss: 0.1428 - accuracy: 0.9571\n",
            "Epoch 13: saving model to model\\model.keras\n",
            "5069/5069 [==============================] - 5s 1ms/step - loss: 0.1429 - accuracy: 0.9571 - val_loss: 0.0627 - val_accuracy: 0.9802\n",
            "Epoch 14/50\n",
            "5040/5069 [============================>.] - ETA: 0s - loss: 0.1391 - accuracy: 0.9586\n",
            "Epoch 14: saving model to model\\model.keras\n",
            "5069/5069 [==============================] - 5s 996us/step - loss: 0.1394 - accuracy: 0.9586 - val_loss: 0.0711 - val_accuracy: 0.9774\n",
            "Epoch 15/50\n",
            "5048/5069 [============================>.] - ETA: 0s - loss: 0.1366 - accuracy: 0.9582\n",
            "Epoch 15: saving model to model\\model.keras\n",
            "5069/5069 [==============================] - 5s 998us/step - loss: 0.1365 - accuracy: 0.9582 - val_loss: 0.0610 - val_accuracy: 0.9782\n",
            "Epoch 16/50\n",
            "5005/5069 [============================>.] - ETA: 0s - loss: 0.1347 - accuracy: 0.9597\n",
            "Epoch 16: saving model to model\\model.keras\n",
            "5069/5069 [==============================] - 5s 979us/step - loss: 0.1353 - accuracy: 0.9595 - val_loss: 0.0582 - val_accuracy: 0.9797\n",
            "Epoch 17/50\n",
            "5017/5069 [============================>.] - ETA: 0s - loss: 0.1259 - accuracy: 0.9609\n",
            "Epoch 17: saving model to model\\model.keras\n",
            "5069/5069 [==============================] - 5s 1ms/step - loss: 0.1257 - accuracy: 0.9610 - val_loss: 0.0583 - val_accuracy: 0.9802\n",
            "Epoch 18/50\n",
            "5056/5069 [============================>.] - ETA: 0s - loss: 0.1290 - accuracy: 0.9624\n",
            "Epoch 18: saving model to model\\model.keras\n",
            "5069/5069 [==============================] - 5s 997us/step - loss: 0.1287 - accuracy: 0.9625 - val_loss: 0.0570 - val_accuracy: 0.9801\n",
            "Epoch 19/50\n",
            "5066/5069 [============================>.] - ETA: 0s - loss: 0.1291 - accuracy: 0.9613\n",
            "Epoch 19: saving model to model\\model.keras\n",
            "5069/5069 [==============================] - 5s 984us/step - loss: 0.1291 - accuracy: 0.9613 - val_loss: 0.0640 - val_accuracy: 0.9787\n",
            "Epoch 20/50\n",
            "5046/5069 [============================>.] - ETA: 0s - loss: 0.1252 - accuracy: 0.9617\n",
            "Epoch 20: saving model to model\\model.keras\n",
            "5069/5069 [==============================] - 5s 907us/step - loss: 0.1251 - accuracy: 0.9617 - val_loss: 0.0572 - val_accuracy: 0.9813\n",
            "Epoch 21/50\n",
            "5038/5069 [============================>.] - ETA: 0s - loss: 0.1218 - accuracy: 0.9629\n",
            "Epoch 21: saving model to model\\model.keras\n",
            "5069/5069 [==============================] - 5s 889us/step - loss: 0.1218 - accuracy: 0.9630 - val_loss: 0.0650 - val_accuracy: 0.9773\n",
            "Epoch 22/50\n",
            "5046/5069 [============================>.] - ETA: 0s - loss: 0.1195 - accuracy: 0.9634\n",
            "Epoch 22: saving model to model\\model.keras\n",
            "5069/5069 [==============================] - 4s 846us/step - loss: 0.1194 - accuracy: 0.9635 - val_loss: 0.0544 - val_accuracy: 0.9804\n",
            "Epoch 23/50\n",
            "4993/5069 [============================>.] - ETA: 0s - loss: 0.1190 - accuracy: 0.9634\n",
            "Epoch 23: saving model to model\\model.keras\n",
            "5069/5069 [==============================] - 4s 871us/step - loss: 0.1195 - accuracy: 0.9633 - val_loss: 0.0639 - val_accuracy: 0.9768\n",
            "Epoch 24/50\n",
            "5067/5069 [============================>.] - ETA: 0s - loss: 0.1205 - accuracy: 0.9626\n",
            "Epoch 24: saving model to model\\model.keras\n",
            "5069/5069 [==============================] - 4s 855us/step - loss: 0.1206 - accuracy: 0.9626 - val_loss: 0.0670 - val_accuracy: 0.9774\n",
            "Epoch 25/50\n",
            "5064/5069 [============================>.] - ETA: 0s - loss: 0.1186 - accuracy: 0.9635\n",
            "Epoch 25: saving model to model\\model.keras\n",
            "5069/5069 [==============================] - 5s 891us/step - loss: 0.1186 - accuracy: 0.9636 - val_loss: 0.0524 - val_accuracy: 0.9822\n",
            "Epoch 26/50\n",
            "5065/5069 [============================>.] - ETA: 0s - loss: 0.1158 - accuracy: 0.9646\n",
            "Epoch 26: saving model to model\\model.keras\n",
            "5069/5069 [==============================] - 4s 882us/step - loss: 0.1158 - accuracy: 0.9646 - val_loss: 0.0519 - val_accuracy: 0.9808\n",
            "Epoch 27/50\n",
            "5065/5069 [============================>.] - ETA: 0s - loss: 0.1165 - accuracy: 0.9650\n",
            "Epoch 27: saving model to model\\model.keras\n",
            "5069/5069 [==============================] - 4s 847us/step - loss: 0.1165 - accuracy: 0.9651 - val_loss: 0.0522 - val_accuracy: 0.9820\n",
            "Epoch 28/50\n",
            "5047/5069 [============================>.] - ETA: 0s - loss: 0.1103 - accuracy: 0.9655\n",
            "Epoch 28: saving model to model\\model.keras\n",
            "5069/5069 [==============================] - 4s 848us/step - loss: 0.1103 - accuracy: 0.9655 - val_loss: 0.0494 - val_accuracy: 0.9818\n",
            "Epoch 29/50\n",
            "4992/5069 [============================>.] - ETA: 0s - loss: 0.1139 - accuracy: 0.9655\n",
            "Epoch 29: saving model to model\\model.keras\n",
            "5069/5069 [==============================] - 4s 887us/step - loss: 0.1137 - accuracy: 0.9655 - val_loss: 0.0496 - val_accuracy: 0.9840\n",
            "Epoch 30/50\n",
            "5022/5069 [============================>.] - ETA: 0s - loss: 0.1107 - accuracy: 0.9660\n",
            "Epoch 30: saving model to model\\model.keras\n",
            "5069/5069 [==============================] - 4s 840us/step - loss: 0.1108 - accuracy: 0.9659 - val_loss: 0.0555 - val_accuracy: 0.9805\n",
            "Epoch 31/50\n",
            "5020/5069 [============================>.] - ETA: 0s - loss: 0.1074 - accuracy: 0.9669\n",
            "Epoch 31: saving model to model\\model.keras\n",
            "5069/5069 [==============================] - 5s 896us/step - loss: 0.1073 - accuracy: 0.9670 - val_loss: 0.0523 - val_accuracy: 0.9827\n",
            "Epoch 32/50\n",
            "5058/5069 [============================>.] - ETA: 0s - loss: 0.1080 - accuracy: 0.9670\n",
            "Epoch 32: saving model to model\\model.keras\n",
            "5069/5069 [==============================] - 4s 871us/step - loss: 0.1082 - accuracy: 0.9669 - val_loss: 0.0524 - val_accuracy: 0.9823\n",
            "Epoch 32: early stopping\n"
          ]
        },
        {
          "data": {
            "text/plain": [
              "<keras.src.callbacks.History at 0x2ab485b3190>"
            ]
          },
          "execution_count": 15,
          "metadata": {},
          "output_type": "execute_result"
        }
      ],
      "source": [
        "model.fit(\n",
        "    X_train,\n",
        "    y_train,\n",
        "    epochs=50,\n",
        "    batch_size=8,\n",
        "    validation_data=(X_val, y_val),\n",
        "    callbacks=[cp_callback, es_callback]\n",
        ")"
      ]
    },
    {
      "cell_type": "markdown",
      "metadata": {},
      "source": [
        "# Evaluate Model"
      ]
    },
    {
      "cell_type": "markdown",
      "metadata": {},
      "source": [
        "## Plot Confusion Matrix"
      ]
    },
    {
      "cell_type": "code",
      "execution_count": 16,
      "metadata": {},
      "outputs": [],
      "source": [
        "with open(label_path,encoding='utf-8-sig') as f:\n",
        "\t\tclassifier_labels = csv.reader(f)\n",
        "\t\tclassifier_labels = [\n",
        "\t\t\trow[0] for row in classifier_labels\n",
        "\t\t]"
      ]
    },
    {
      "cell_type": "code",
      "execution_count": 17,
      "metadata": {},
      "outputs": [
        {
          "name": "stdout",
          "output_type": "stream",
          "text": [
            "['A', 'B', 'C', 'D', 'E', 'F', 'G', 'H', 'I', 'J', 'K', 'L', 'M', 'N', 'O', 'P', 'Q', 'R', 'S', 'T', 'U', 'V', 'W', 'X', 'Y', 'Z', 'Good', 'Bad', 'Noise']\n"
          ]
        }
      ],
      "source": [
        "print(classifier_labels)"
      ]
    },
    {
      "cell_type": "code",
      "execution_count": 18,
      "metadata": {
        "colab": {
          "base_uri": "https://localhost:8080/",
          "height": 582
        },
        "id": "AP1V6SCk9hE5",
        "outputId": "08e41a80-7a4a-4619-8125-ecc371368d19"
      },
      "outputs": [
        {
          "name": "stdout",
          "output_type": "stream",
          "text": [
            "423/423 [==============================] - 0s 514us/step\n"
          ]
        },
        {
          "data": {
            "image/png": "[encoded data removed]",
            "text/plain": [
              "<Figure size 1000x900 with 2 Axes>"
            ]
          },
          "metadata": {},
          "output_type": "display_data"
        },
        {
          "name": "stdout",
          "output_type": "stream",
          "text": [
            "Classification Report\n",
            "              precision    recall  f1-score   support\n",
            "\n",
            "           0       1.00      0.99      0.99       508\n",
            "           1       0.94      0.94      0.94       429\n",
            "           2       0.98      0.96      0.97       400\n",
            "           3       0.99      0.97      0.98       371\n",
            "           4       0.97      0.99      0.98       478\n",
            "           5       0.99      0.95      0.97       499\n",
            "           6       0.98      0.98      0.98       503\n",
            "           7       0.96      0.98      0.97       534\n",
            "           8       0.99      1.00      0.99       556\n",
            "          10       0.99      0.99      0.99       708\n",
            "          11       1.00      1.00      1.00       533\n",
            "          12       0.99      0.99      0.99       685\n",
            "          13       0.99      0.99      0.99       717\n",
            "          14       1.00      1.00      1.00       594\n",
            "          15       0.98      0.99      0.98       542\n",
            "          16       0.99      0.97      0.98       622\n",
            "          17       1.00      0.99      1.00       662\n",
            "          18       1.00      1.00      1.00       522\n",
            "          19       0.99      0.99      0.99       579\n",
            "          20       0.97      0.99      0.98       630\n",
            "          21       1.00      0.99      0.99       480\n",
            "          22       0.98      1.00      0.99       466\n",
            "          23       0.99      1.00      0.99       580\n",
            "          24       0.99      0.98      0.98       640\n",
            "          27       0.82      0.73      0.77       116\n",
            "          28       0.85      0.97      0.91       115\n",
            "          29       0.92      1.00      0.96        48\n",
            "\n",
            "    accuracy                           0.98     13517\n",
            "   macro avg       0.97      0.98      0.97     13517\n",
            "weighted avg       0.98      0.98      0.98     13517\n",
            "\n"
          ]
        }
      ],
      "source": [
        "import pandas as pd\n",
        "import seaborn as sns\n",
        "import matplotlib.pyplot as plt\n",
        "from sklearn.metrics import confusion_matrix, classification_report\n",
        "\n",
        "def print_confusion_matrix(y_true, y_pred, report=True):\n",
        "    labels = sorted(list(set(y_true)))\n",
        "    cmx_data = confusion_matrix(y_true, y_pred, labels=labels)\n",
        "    \n",
        "    df_cmx = pd.DataFrame(cmx_data, index=labels, columns=labels)\n",
        " \n",
        "    fig, ax = plt.subplots(figsize=(10, 9))\n",
        "    sns.heatmap(df_cmx, annot=True, fmt='g' ,square=False, xticklabels=classifier_labels, yticklabels=classifier_labels)\n",
        "    ax.set_ylim(len(set(y_true)), 0)\n",
        "    plt.show()\n",
        "    \n",
        "    if report:\n",
        "        print('Classification Report')\n",
        "        print(classification_report(y_test, y_pred))\n",
        "\n",
        "Y_pred = model.predict(X_test)\n",
        "y_pred = np.argmax(Y_pred, axis=1)\n",
        "\n",
        "print_confusion_matrix(y_test, y_pred)\n"
      ]
    },
    {
      "cell_type": "markdown",
      "metadata": {},
      "source": [
        "## Accuracy and Loss"
      ]
    },
    {
      "cell_type": "code",
      "execution_count": 19,
      "metadata": {
        "colab": {
          "base_uri": "https://localhost:8080/"
        },
        "id": "pxvb2Y299hE3",
        "outputId": "59eb3185-2e37-4b9e-bc9d-ab1b8ac29b7f"
      },
      "outputs": [
        {
          "name": "stdout",
          "output_type": "stream",
          "text": [
            "1690/1690 [==============================] - 1s 577us/step - loss: 0.0493 - accuracy: 0.9837\n"
          ]
        }
      ],
      "source": [
        "val_loss, val_acc = model.evaluate(X_test, y_test, batch_size=8)"
      ]
    },
    {
      "cell_type": "markdown",
      "metadata": {},
      "source": [
        "## Predict Unseen Data"
      ]
    },
    {
      "cell_type": "code",
      "execution_count": 20,
      "metadata": {
        "colab": {
          "base_uri": "https://localhost:8080/"
        },
        "id": "tFz9Tb0I9hE4",
        "outputId": "1c3b3528-54ae-4ee2-ab04-77429211cbef"
      },
      "outputs": [
        {
          "name": "stdout",
          "output_type": "stream",
          "text": [
            "1/1 [==============================] - 0s 14ms/step\n",
            "[[9.3417884e-13 5.1646516e-06 2.7513677e-11 9.9999201e-01 2.9661424e-20\n",
            "  1.9114019e-10 6.8273232e-07 6.2337935e-10 3.1918049e-12 2.8837812e-27\n",
            "  1.6334423e-06 4.7459741e-07 2.9414668e-08 1.6040035e-24 5.5917337e-13\n",
            "  1.7691282e-13 8.8447704e-19 1.2193243e-12 5.7994764e-20 1.3507867e-12\n",
            "  1.8572352e-11 1.6791929e-09 1.4101935e-11 2.3913793e-10 1.2049262e-11\n",
            "  4.8483457e-27 3.2673519e-28 8.9323624e-09 1.8209411e-15 9.1825242e-11]]\n",
            "[9.3417884e-13 5.1646516e-06 2.7513677e-11 9.9999201e-01 2.9661424e-20\n",
            " 1.9114019e-10 6.8273232e-07 6.2337935e-10 3.1918049e-12 2.8837812e-27\n",
            " 1.6334423e-06 4.7459741e-07 2.9414668e-08 1.6040035e-24 5.5917337e-13\n",
            " 1.7691282e-13 8.8447704e-19 1.2193243e-12 5.7994764e-20 1.3507867e-12\n",
            " 1.8572352e-11 1.6791929e-09 1.4101935e-11 2.3913793e-10 1.2049262e-11\n",
            " 4.8483457e-27 3.2673519e-28 8.9323624e-09 1.8209411e-15 9.1825242e-11]\n",
            "1.0\n",
            "3\n"
          ]
        }
      ],
      "source": [
        "predict_result = model.predict(np.array([X_test[0]]))\n",
        "print(predict_result)\n",
        "print(np.squeeze(predict_result))\n",
        "print(np.sum((predict_result)))\n",
        "print(np.argmax(np.squeeze(predict_result)))"
      ]
    },
    {
      "cell_type": "markdown",
      "metadata": {
        "id": "FNP6aqzc9hE5"
      },
      "source": [
        "# Convert TFLite"
      ]
    },
    {
      "cell_type": "markdown",
      "metadata": {},
      "source": [
        "## Save Model"
      ]
    },
    {
      "cell_type": "code",
      "execution_count": 21,
      "metadata": {
        "id": "ODjnYyld9hE6"
      },
      "outputs": [],
      "source": [
        "model.save(model_save_path)"
      ]
    },
    {
      "cell_type": "markdown",
      "metadata": {},
      "source": [
        "## Load Model"
      ]
    },
    {
      "cell_type": "code",
      "execution_count": 22,
      "metadata": {},
      "outputs": [],
      "source": [
        "model = tf.keras.models.load_model(model_save_path)"
      ]
    },
    {
      "cell_type": "markdown",
      "metadata": {},
      "source": [
        "## Quantization & Save"
      ]
    },
    {
      "cell_type": "code",
      "execution_count": 23,
      "metadata": {
        "colab": {
          "base_uri": "https://localhost:8080/"
        },
        "id": "zRfuK8Y59hE6",
        "outputId": "a4ca585c-b5d5-4244-8291-8674063209bb"
      },
      "outputs": [
        {
          "name": "stdout",
          "output_type": "stream",
          "text": [
            "INFO:tensorflow:Assets written to: C:\\Users\\zhiweiy\\AppData\\Local\\Temp\\tmpwk69dd0u\\assets\n"
          ]
        },
        {
          "name": "stderr",
          "output_type": "stream",
          "text": [
            "INFO:tensorflow:Assets written to: C:\\Users\\zhiweiy\\AppData\\Local\\Temp\\tmpwk69dd0u\\assets\n"
          ]
        },
        {
          "data": {
            "text/plain": [
              "70200"
            ]
          },
          "execution_count": 23,
          "metadata": {},
          "output_type": "execute_result"
        }
      ],
      "source": [
        "converter = tf.lite.TFLiteConverter.from_keras_model(model)\n",
        "# converter.optimizations = [tf.lite.Optimize.DEFAULT]\n",
        "tflite_quantized_model = converter.convert()\n",
        "\n",
        "open(tflite_save_path, 'wb').write(tflite_quantized_model)\n"
      ]
    },
    {
      "cell_type": "markdown",
      "metadata": {
        "id": "CHBPBXdx9hE6"
      },
      "source": [
        "# Inference test"
      ]
    },
    {
      "cell_type": "markdown",
      "metadata": {},
      "source": [
        "## Setup Interpreter Interface"
      ]
    },
    {
      "cell_type": "code",
      "execution_count": 24,
      "metadata": {
        "id": "mGAzLocO9hE7"
      },
      "outputs": [],
      "source": [
        "interpreter = tf.lite.Interpreter(model_path=tflite_save_path)\n",
        "interpreter.allocate_tensors()"
      ]
    },
    {
      "cell_type": "markdown",
      "metadata": {},
      "source": [
        "## Get Tensor Details"
      ]
    },
    {
      "cell_type": "code",
      "execution_count": 25,
      "metadata": {
        "id": "oQuDK8YS9hE7"
      },
      "outputs": [],
      "source": [
        "# Get I / O tensor\n",
        "input_details = interpreter.get_input_details()\n",
        "output_details = interpreter.get_output_details()"
      ]
    },
    {
      "cell_type": "markdown",
      "metadata": {},
      "source": [
        "## Implement Inference"
      ]
    },
    {
      "cell_type": "markdown",
      "metadata": {},
      "source": [
        "### Setup Input Tensor"
      ]
    },
    {
      "cell_type": "code",
      "execution_count": 26,
      "metadata": {
        "id": "2_ixAf_l9hE7"
      },
      "outputs": [],
      "source": [
        "interpreter.set_tensor(input_details[0]['index'], np.array([X_test[0]]))"
      ]
    },
    {
      "cell_type": "markdown",
      "metadata": {},
      "source": [
        "### Invoke Interpreter"
      ]
    },
    {
      "cell_type": "code",
      "execution_count": 27,
      "metadata": {
        "colab": {
          "base_uri": "https://localhost:8080/"
        },
        "id": "s4FoAnuc9hE7",
        "outputId": "91f18257-8d8b-4ef3-c558-e9b5f94fabbf",
        "scrolled": true
      },
      "outputs": [
        {
          "name": "stdout",
          "output_type": "stream",
          "text": [
            "CPU times: total: 0 ns\n",
            "Wall time: 0 ns\n"
          ]
        }
      ],
      "source": [
        "%%time\n",
        "interpreter.invoke()"
      ]
    },
    {
      "cell_type": "markdown",
      "metadata": {},
      "source": [
        "### Get Tensor Output"
      ]
    },
    {
      "cell_type": "code",
      "execution_count": 28,
      "metadata": {},
      "outputs": [
        {
          "name": "stdout",
          "output_type": "stream",
          "text": [
            "[9.3417884e-13 5.1646562e-06 2.7513570e-11 9.9999201e-01 2.9661304e-20\n",
            " 1.9114055e-10 6.8273101e-07 6.2337691e-10 3.1917984e-12 2.8837918e-27\n",
            " 1.6334437e-06 4.7459739e-07 2.9414723e-08 1.6040093e-24 5.5917120e-13\n",
            " 1.7691279e-13 8.8447693e-19 1.2193243e-12 5.7994757e-20 1.3507867e-12\n",
            " 1.8572352e-11 1.6791928e-09 1.4101961e-11 2.3913793e-10 1.2049261e-11\n",
            " 4.8482894e-27 3.2673387e-28 8.9323624e-09 1.8209411e-15 9.1825235e-11]\n",
            "3\n"
          ]
        }
      ],
      "source": [
        "tflite_results = interpreter.get_tensor(output_details[0]['index'])\n",
        "print(np.squeeze(tflite_results))\n",
        "print(np.argmax(np.squeeze(tflite_results)))"
      ]
    }
  ],
  "metadata": {
    "accelerator": "GPU",
    "colab": {
      "collapsed_sections": [],
      "name": "keypoint_classification_EN.ipynb",
      "provenance": [],
      "toc_visible": true
    },
    "kernelspec": {
      "display_name": "Python 3",
      "language": "python",
      "name": "python3"
    },
    "language_info": {
      "codemirror_mode": {
        "name": "ipython",
        "version": 3
      },
      "file_extension": ".py",
      "mimetype": "text/x-python",
      "name": "python",
      "nbconvert_exporter": "python",
      "pygments_lexer": "ipython3",
      "version": "3.11.7"
    }
  },
  "nbformat": 4,
  "nbformat_minor": 0
}
